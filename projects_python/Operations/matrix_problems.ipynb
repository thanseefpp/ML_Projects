{
 "cells": [
  {
   "cell_type": "markdown",
   "metadata": {},
   "source": [
    "# Matrix Problems & Operations"
   ]
  },
  {
   "cell_type": "code",
   "execution_count": 50,
   "metadata": {},
   "outputs": [],
   "source": [
    "import numpy as np\n"
   ]
  },
  {
   "cell_type": "markdown",
   "metadata": {},
   "source": [
    "## Creating a Matrix using numpy"
   ]
  },
  {
   "cell_type": "code",
   "execution_count": 51,
   "metadata": {},
   "outputs": [
    {
     "name": "stdout",
     "output_type": "stream",
     "text": [
      "[[2 3]\n",
      " [6 7]]\n"
     ]
    }
   ],
   "source": [
    "matrix_1 = np.array([[2,3],[6,7]])\n",
    "print(matrix_1)"
   ]
  },
  {
   "cell_type": "code",
   "execution_count": 52,
   "metadata": {},
   "outputs": [
    {
     "data": {
      "text/plain": [
       "(2, 2)"
      ]
     },
     "execution_count": 52,
     "metadata": {},
     "output_type": "execute_result"
    }
   ],
   "source": [
    "matrix_1.shape"
   ]
  },
  {
   "cell_type": "code",
   "execution_count": 53,
   "metadata": {},
   "outputs": [
    {
     "name": "stdout",
     "output_type": "stream",
     "text": [
      "[[10 35 45]\n",
      " [50 64 80]\n",
      " [20 15 90]]\n"
     ]
    }
   ],
   "source": [
    "matrix_2 = np.array([[10,35,45],[50,64,80],[20,15,90]])\n",
    "print(matrix_2)"
   ]
  },
  {
   "cell_type": "code",
   "execution_count": 54,
   "metadata": {},
   "outputs": [
    {
     "data": {
      "text/plain": [
       "(3, 3)"
      ]
     },
     "execution_count": 54,
     "metadata": {},
     "output_type": "execute_result"
    }
   ],
   "source": [
    "matrix_2.shape"
   ]
  },
  {
   "cell_type": "markdown",
   "metadata": {},
   "source": [
    "## Creating Matrices with Random Values"
   ]
  },
  {
   "cell_type": "code",
   "execution_count": 55,
   "metadata": {},
   "outputs": [
    {
     "name": "stdout",
     "output_type": "stream",
     "text": [
      "[[0.95566301 0.16028018 0.7680105 ]\n",
      " [0.69960333 0.74913705 0.32725424]\n",
      " [0.46982933 0.06460236 0.70083321]]\n"
     ]
    }
   ],
   "source": [
    "matrix_3 = np.random.rand(3,3)\n",
    "print(matrix_3)"
   ]
  },
  {
   "cell_type": "code",
   "execution_count": 56,
   "metadata": {},
   "outputs": [
    {
     "name": "stdout",
     "output_type": "stream",
     "text": [
      "[[98 71 67]\n",
      " [19 45 20]\n",
      " [81 58 73]]\n"
     ]
    }
   ],
   "source": [
    "matrix_4 = np.random.randint(10,100,size=(3,3))# creating matrix with random integers\n",
    "print(matrix_4)"
   ]
  },
  {
   "cell_type": "markdown",
   "metadata": {},
   "source": [
    "## Matrix with all the values as 1"
   ]
  },
  {
   "cell_type": "code",
   "execution_count": 57,
   "metadata": {},
   "outputs": [
    {
     "name": "stdout",
     "output_type": "stream",
     "text": [
      "[[1 1 1]\n",
      " [1 1 1]]\n"
     ]
    }
   ],
   "source": [
    "matrix_5 = np.ones((2,3),dtype=int) #dtype to change the datatype\n",
    "print(matrix_5)"
   ]
  },
  {
   "cell_type": "markdown",
   "metadata": {},
   "source": [
    "## Null Matrix or Zero Matrix"
   ]
  },
  {
   "cell_type": "code",
   "execution_count": 58,
   "metadata": {},
   "outputs": [
    {
     "name": "stdout",
     "output_type": "stream",
     "text": [
      "[[0 0 0 0 0]\n",
      " [0 0 0 0 0]\n",
      " [0 0 0 0 0]\n",
      " [0 0 0 0 0]\n",
      " [0 0 0 0 0]]\n"
     ]
    }
   ],
   "source": [
    "matrix_6 = np.zeros((5,5),dtype=int) #dtype to change the datatype\n",
    "print(matrix_6)"
   ]
  },
  {
   "cell_type": "markdown",
   "metadata": {},
   "source": [
    "## Identity Matrix"
   ]
  },
  {
   "cell_type": "code",
   "execution_count": 59,
   "metadata": {},
   "outputs": [
    {
     "name": "stdout",
     "output_type": "stream",
     "text": [
      "[[1. 0. 0.]\n",
      " [0. 1. 0.]\n",
      " [0. 0. 1.]]\n"
     ]
    }
   ],
   "source": [
    "identity_matrix = np.eye(3,3)\n",
    "print(identity_matrix)"
   ]
  },
  {
   "cell_type": "markdown",
   "metadata": {},
   "source": [
    "## Transpose of a Matrix"
   ]
  },
  {
   "cell_type": "code",
   "execution_count": 60,
   "metadata": {},
   "outputs": [
    {
     "name": "stdout",
     "output_type": "stream",
     "text": [
      "[[52 23 42 65 93]\n",
      " [91 29 79 32 70]\n",
      " [88 62 63 45 75]\n",
      " [58 26 88 95 92]]\n"
     ]
    }
   ],
   "source": [
    "# matrix with random integer values\n",
    "a = np.random.randint(10,100, size=(4,5))\n",
    "print(a)"
   ]
  },
  {
   "cell_type": "code",
   "execution_count": 61,
   "metadata": {},
   "outputs": [
    {
     "name": "stdout",
     "output_type": "stream",
     "text": [
      "[[52 91 88 58]\n",
      " [23 29 62 26]\n",
      " [42 79 63 88]\n",
      " [65 32 45 95]\n",
      " [93 70 75 92]]\n"
     ]
    }
   ],
   "source": [
    "transpose_of_a = np.transpose(a)\n",
    "print(transpose_of_a)"
   ]
  },
  {
   "cell_type": "markdown",
   "metadata": {},
   "source": [
    "## Matrix Addition operation"
   ]
  },
  {
   "cell_type": "markdown",
   "metadata": {},
   "source": [
    "#### Two matrix can be added only if they have the same shape"
   ]
  },
  {
   "cell_type": "code",
   "execution_count": 62,
   "metadata": {},
   "outputs": [
    {
     "name": "stdout",
     "output_type": "stream",
     "text": [
      "[[ 5  9]\n",
      " [12 14]]\n"
     ]
    }
   ],
   "source": [
    "a = np.array([[3,2],[4,5]])\n",
    "b = np.array([[2,7],[8,9]])\n",
    "additioned_matrix = np.add(a,b)\n",
    "# print(a,'\\n',b)\n",
    "print(additioned_matrix)"
   ]
  },
  {
   "cell_type": "markdown",
   "metadata": {},
   "source": [
    "## Matrix Subtraction operation"
   ]
  },
  {
   "cell_type": "code",
   "execution_count": 63,
   "metadata": {},
   "outputs": [
    {
     "name": "stdout",
     "output_type": "stream",
     "text": [
      "[[ 1 -5]\n",
      " [-4 -4]]\n"
     ]
    }
   ],
   "source": [
    "a = np.array([[3,2],[4,5]])\n",
    "b = np.array([[2,7],[8,9]])\n",
    "subtracted_matrix = np.subtract(a,b)\n",
    "# print(a,'\\n',b)\n",
    "print(subtracted_matrix)"
   ]
  },
  {
   "cell_type": "markdown",
   "metadata": {},
   "source": [
    "## Matrix Multiplication operation"
   ]
  },
  {
   "cell_type": "markdown",
   "metadata": {},
   "source": [
    "#### Multiplying a matrix with a scalar"
   ]
  },
  {
   "cell_type": "code",
   "execution_count": 68,
   "metadata": {},
   "outputs": [
    {
     "name": "stdout",
     "output_type": "stream",
     "text": [
      "[[ 6  4]\n",
      " [ 8 10]]\n"
     ]
    }
   ],
   "source": [
    "a = np.array([[3,2],[4,5]])\n",
    "x = 2\n",
    "multiplied_matrix = np.multiply(x,a)\n",
    "# print(a,'\\n',b)\n",
    "print(multiplied_matrix)"
   ]
  },
  {
   "cell_type": "code",
   "execution_count": 65,
   "metadata": {},
   "outputs": [
    {
     "name": "stdout",
     "output_type": "stream",
     "text": [
      "[[ 6 14]\n",
      " [32 45]]\n"
     ]
    }
   ],
   "source": [
    "a = np.array([[3,2],[4,5]])\n",
    "b = np.array([[2,7],[8,9]])\n",
    "multiplied_two_matrix = np.multiply(a,b)\n",
    "# print(a,'\\n',b)\n",
    "print(multiplied_two_matrix)"
   ]
  }
 ],
 "metadata": {
  "kernelspec": {
   "display_name": "Python 3.9.13 ('tensorflow')",
   "language": "python",
   "name": "python3"
  },
  "language_info": {
   "codemirror_mode": {
    "name": "ipython",
    "version": 3
   },
   "file_extension": ".py",
   "mimetype": "text/x-python",
   "name": "python",
   "nbconvert_exporter": "python",
   "pygments_lexer": "ipython3",
   "version": "3.9.13"
  },
  "orig_nbformat": 4,
  "vscode": {
   "interpreter": {
    "hash": "e6a7a5b5dd92f3ff8a78f358dce6671993fb70b6d76018ef9a9619aeb3b6ac66"
   }
  }
 },
 "nbformat": 4,
 "nbformat_minor": 2
}
