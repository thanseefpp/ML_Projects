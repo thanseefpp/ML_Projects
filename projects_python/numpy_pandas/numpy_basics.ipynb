{
  "cells": [
    {
      "cell_type": "markdown",
      "metadata": {
        "id": "iQ-JMxBVZktU"
      },
      "source": [
        "NumPy - Numerical Python"
      ]
    },
    {
      "cell_type": "markdown",
      "metadata": {
        "id": "JPFcfoOkZl-W"
      },
      "source": [
        "Advantages of Numpy Arrays:\n",
        "\n",
        "1. Allows several Mathematical Operations\n",
        "2. Faster operations"
      ]
    },
    {
      "cell_type": "code",
      "execution_count": 236,
      "metadata": {
        "id": "FKQ8J2p3XaCm"
      },
      "outputs": [],
      "source": [
        "import numpy as np"
      ]
    },
    {
      "cell_type": "markdown",
      "metadata": {
        "id": "00t7Sra2dN6O"
      },
      "source": [
        "List vs Numpy - Time Taken"
      ]
    },
    {
      "cell_type": "code",
      "execution_count": 237,
      "metadata": {
        "id": "ilCVM61ec41w"
      },
      "outputs": [],
      "source": [
        "from time import process_time"
      ]
    },
    {
      "cell_type": "markdown",
      "metadata": {
        "id": "HeB32kledZGx"
      },
      "source": [
        "Time taken by a list"
      ]
    },
    {
      "cell_type": "code",
      "execution_count": 238,
      "metadata": {
        "colab": {
          "base_uri": "https://localhost:8080/"
        },
        "id": "_dNK1wqEdXtu",
        "outputId": "1a98cf75-6424-41f2-d85c-07e5e4c2bf12"
      },
      "outputs": [
        {
          "name": "stdout",
          "output_type": "stream",
          "text": [
            "0.00026100000000006673\n"
          ]
        }
      ],
      "source": [
        "python_list = [i for i in range(10000)]\n",
        "\n",
        "start_time = process_time()\n",
        "\n",
        "python_list = [i+5 for i in python_list]\n",
        "\n",
        "end_time = process_time()\n",
        "\n",
        "print(end_time - start_time)"
      ]
    },
    {
      "cell_type": "code",
      "execution_count": 239,
      "metadata": {
        "colab": {
          "base_uri": "https://localhost:8080/"
        },
        "id": "fCJjgEcJeFss",
        "outputId": "624eefc2-8236-41a5-e8a1-2ca3d0d330f2"
      },
      "outputs": [
        {
          "name": "stdout",
          "output_type": "stream",
          "text": [
            "4.099999999995774e-05\n"
          ]
        }
      ],
      "source": [
        "np_array = np.array([i for i in range(10000)])\n",
        "\n",
        "start_time = process_time()\n",
        "\n",
        "np_array += 5\n",
        "\n",
        "end_time = process_time()\n",
        "\n",
        "print(end_time - start_time)"
      ]
    },
    {
      "cell_type": "markdown",
      "metadata": {
        "id": "ZuMfmL4ze2MM"
      },
      "source": [
        "Numpy Arrays"
      ]
    },
    {
      "cell_type": "code",
      "execution_count": 240,
      "metadata": {
        "colab": {
          "base_uri": "https://localhost:8080/"
        },
        "id": "ALnk1TFGeozQ",
        "outputId": "e4619ad6-1da3-4d99-c959-9bd59a887bbf"
      },
      "outputs": [
        {
          "name": "stdout",
          "output_type": "stream",
          "text": [
            "[1, 2, 3, 4, 5]\n"
          ]
        },
        {
          "data": {
            "text/plain": [
              "list"
            ]
          },
          "execution_count": 240,
          "metadata": {},
          "output_type": "execute_result"
        }
      ],
      "source": [
        "# list\n",
        "list1 = [1,2,3,4,5]\n",
        "print(list1)\n",
        "type(list1)"
      ]
    },
    {
      "cell_type": "code",
      "execution_count": 241,
      "metadata": {
        "colab": {
          "base_uri": "https://localhost:8080/"
        },
        "id": "0HHyvSq9fERJ",
        "outputId": "85967582-1d6c-40a0-cca7-08a46bf66505"
      },
      "outputs": [
        {
          "name": "stdout",
          "output_type": "stream",
          "text": [
            "[1 2 3 4 5]\n"
          ]
        },
        {
          "data": {
            "text/plain": [
              "numpy.ndarray"
            ]
          },
          "execution_count": 241,
          "metadata": {},
          "output_type": "execute_result"
        }
      ],
      "source": [
        "np_array = np.array([1,2,3,4,5])\n",
        "print(np_array)\n",
        "type(np_array)"
      ]
    },
    {
      "cell_type": "code",
      "execution_count": 242,
      "metadata": {
        "colab": {
          "base_uri": "https://localhost:8080/"
        },
        "id": "K7OV29HvfTO1",
        "outputId": "2c05ff0a-fcbc-4f57-a8cf-a244c7aacc7a"
      },
      "outputs": [
        {
          "name": "stdout",
          "output_type": "stream",
          "text": [
            "[1 2 3 4]\n"
          ]
        }
      ],
      "source": [
        "# creating a 1 dim array\n",
        "a = np.array([1,2,3,4])\n",
        "print(a)"
      ]
    },
    {
      "cell_type": "code",
      "execution_count": 243,
      "metadata": {
        "colab": {
          "base_uri": "https://localhost:8080/"
        },
        "id": "ijT4obBQfiJn",
        "outputId": "fffe884e-b46a-472d-ef26-c755066bc76f"
      },
      "outputs": [
        {
          "data": {
            "text/plain": [
              "(4,)"
            ]
          },
          "execution_count": 243,
          "metadata": {},
          "output_type": "execute_result"
        }
      ],
      "source": [
        "a.shape"
      ]
    },
    {
      "cell_type": "code",
      "execution_count": 244,
      "metadata": {
        "colab": {
          "base_uri": "https://localhost:8080/"
        },
        "id": "coB3eM3_flqI",
        "outputId": "10e7a2d1-1c87-4037-b894-bf905d7b0bd6"
      },
      "outputs": [
        {
          "name": "stdout",
          "output_type": "stream",
          "text": [
            "[[1 2 3 4]\n",
            " [5 6 7 8]]\n"
          ]
        }
      ],
      "source": [
        "b = np.array([(1,2,3,4),(5,6,7,8)])\n",
        "print(b)"
      ]
    },
    {
      "cell_type": "code",
      "execution_count": 245,
      "metadata": {
        "colab": {
          "base_uri": "https://localhost:8080/"
        },
        "id": "27l557XbfvoC",
        "outputId": "baaa4382-cd76-41d9-a3df-03f670e691be"
      },
      "outputs": [
        {
          "data": {
            "text/plain": [
              "(2, 4)"
            ]
          },
          "execution_count": 245,
          "metadata": {},
          "output_type": "execute_result"
        }
      ],
      "source": [
        "b.shape"
      ]
    },
    {
      "cell_type": "code",
      "execution_count": 246,
      "metadata": {
        "colab": {
          "base_uri": "https://localhost:8080/"
        },
        "id": "3Pa0rTVTf1Xy",
        "outputId": "8e0a0e1e-2b60-4d10-8ec3-7577463ddd88"
      },
      "outputs": [
        {
          "name": "stdout",
          "output_type": "stream",
          "text": [
            "[[1. 2. 3. 4.]\n",
            " [5. 6. 7. 8.]]\n"
          ]
        }
      ],
      "source": [
        "c = np.array([(1,2,3,4),(5,6,7,8)],dtype=float)\n",
        "print(c)"
      ]
    },
    {
      "cell_type": "markdown",
      "metadata": {
        "id": "nKJIkHCugL78"
      },
      "source": [
        "Initial Placeholders in numpy arrays"
      ]
    },
    {
      "cell_type": "code",
      "execution_count": 247,
      "metadata": {
        "colab": {
          "base_uri": "https://localhost:8080/"
        },
        "id": "l1RUrtWmgGCc",
        "outputId": "4be16285-c27f-485f-e186-9ae8958396b0"
      },
      "outputs": [
        {
          "name": "stdout",
          "output_type": "stream",
          "text": [
            "[[0. 0. 0. 0. 0.]\n",
            " [0. 0. 0. 0. 0.]\n",
            " [0. 0. 0. 0. 0.]\n",
            " [0. 0. 0. 0. 0.]]\n"
          ]
        }
      ],
      "source": [
        "# create a numpy array of Zeros\n",
        "x = np.zeros((4,5))\n",
        "print(x)"
      ]
    },
    {
      "cell_type": "code",
      "execution_count": 248,
      "metadata": {
        "colab": {
          "base_uri": "https://localhost:8080/"
        },
        "id": "tK7yGqeaghj8",
        "outputId": "530f1d4e-7423-4444-bffd-96de4f53d685"
      },
      "outputs": [
        {
          "name": "stdout",
          "output_type": "stream",
          "text": [
            "[[1. 1. 1.]\n",
            " [1. 1. 1.]\n",
            " [1. 1. 1.]]\n"
          ]
        }
      ],
      "source": [
        "# create a numpy array of ones\n",
        "y = np.ones((3,3))\n",
        "print(y)"
      ]
    },
    {
      "cell_type": "code",
      "execution_count": 249,
      "metadata": {
        "colab": {
          "base_uri": "https://localhost:8080/"
        },
        "id": "YpYSe_hogtfX",
        "outputId": "267d9fe5-f0c6-4e16-bf2f-2a14ad2d4aa2"
      },
      "outputs": [
        {
          "name": "stdout",
          "output_type": "stream",
          "text": [
            "[[5 5 5 5]\n",
            " [5 5 5 5]\n",
            " [5 5 5 5]\n",
            " [5 5 5 5]\n",
            " [5 5 5 5]]\n"
          ]
        }
      ],
      "source": [
        "# array of a particular value\n",
        "z = np.full((5,4),5)\n",
        "print(z)"
      ]
    },
    {
      "cell_type": "code",
      "execution_count": 250,
      "metadata": {
        "colab": {
          "base_uri": "https://localhost:8080/"
        },
        "id": "7_qKF47Rg6OW",
        "outputId": "c3d49075-62f0-4468-ecbd-6a3b63ca0645"
      },
      "outputs": [
        {
          "name": "stdout",
          "output_type": "stream",
          "text": [
            "[[1. 0. 0. 0. 0.]\n",
            " [0. 1. 0. 0. 0.]\n",
            " [0. 0. 1. 0. 0.]\n",
            " [0. 0. 0. 1. 0.]\n",
            " [0. 0. 0. 0. 1.]]\n"
          ]
        }
      ],
      "source": [
        "# create an identity matrix\n",
        "a = np.eye(5)\n",
        "print(a)"
      ]
    },
    {
      "cell_type": "code",
      "execution_count": 251,
      "metadata": {
        "colab": {
          "base_uri": "https://localhost:8080/"
        },
        "id": "RGDDb3HXhRcp",
        "outputId": "de1c9124-8482-47fc-a7bf-83d981bb0f16"
      },
      "outputs": [
        {
          "name": "stdout",
          "output_type": "stream",
          "text": [
            "[[0.89989102 0.99977162 0.70731331 0.64143144]\n",
            " [0.7319672  0.92467058 0.14752773 0.31412332]\n",
            " [0.90021692 0.70547556 0.47168422 0.1796886 ]]\n"
          ]
        }
      ],
      "source": [
        "# create a numpy array with random values\n",
        "b = np.random.random((3,4))\n",
        "print(b)"
      ]
    },
    {
      "cell_type": "code",
      "execution_count": 252,
      "metadata": {
        "colab": {
          "base_uri": "https://localhost:8080/"
        },
        "id": "Qip1Wyr3hjL8",
        "outputId": "a8cc4190-96db-4a0b-e84d-2283c610b977"
      },
      "outputs": [
        {
          "name": "stdout",
          "output_type": "stream",
          "text": [
            "[[45 90 88 63 94]\n",
            " [54 96 24 48 17]\n",
            " [56 95 49 44 87]]\n"
          ]
        }
      ],
      "source": [
        "# random integer values array within a specific range\n",
        "c = np.random.randint(10,100,(3,5))\n",
        "print(c)"
      ]
    },
    {
      "cell_type": "code",
      "execution_count": 253,
      "metadata": {
        "colab": {
          "base_uri": "https://localhost:8080/"
        },
        "id": "vmBRXUW9h8l2",
        "outputId": "f4813681-e86c-4d4a-ad29-f24b867072cc"
      },
      "outputs": [
        {
          "name": "stdout",
          "output_type": "stream",
          "text": [
            "[10. 15. 20. 25. 30.]\n"
          ]
        }
      ],
      "source": [
        "# array of evenly spaced values --> specifying the number of values required\n",
        "d = np.linspace(10,30,5)\n",
        "print(d)"
      ]
    },
    {
      "cell_type": "code",
      "execution_count": 254,
      "metadata": {
        "colab": {
          "base_uri": "https://localhost:8080/"
        },
        "id": "mWQxXFYViQhn",
        "outputId": "3e34019e-2a9d-4654-a016-f6e5624c0d3d"
      },
      "outputs": [
        {
          "name": "stdout",
          "output_type": "stream",
          "text": [
            "[10 15 20 25]\n"
          ]
        }
      ],
      "source": [
        "# array of evenly spaced values --> specifying the step\n",
        "e = np.arange(10,30,5)\n",
        "print(e)"
      ]
    },
    {
      "cell_type": "code",
      "execution_count": 255,
      "metadata": {
        "colab": {
          "base_uri": "https://localhost:8080/"
        },
        "id": "X6Y2SwSHio60",
        "outputId": "fb687e25-f7db-4771-fea3-8e0d78534c7d"
      },
      "outputs": [
        {
          "name": "stdout",
          "output_type": "stream",
          "text": [
            "[10 20 20 20 50]\n"
          ]
        },
        {
          "data": {
            "text/plain": [
              "numpy.ndarray"
            ]
          },
          "execution_count": 255,
          "metadata": {},
          "output_type": "execute_result"
        }
      ],
      "source": [
        "# convert a list to a numpy array\n",
        "list2 = [10,20,20,20,50]\n",
        "\n",
        "np_array = np.asarray(list2)\n",
        "print(np_array)\n",
        "type(np_array)"
      ]
    },
    {
      "cell_type": "markdown",
      "metadata": {
        "id": "_SCNSk4njMtR"
      },
      "source": [
        "Analysing a numpy array"
      ]
    },
    {
      "cell_type": "code",
      "execution_count": 256,
      "metadata": {
        "colab": {
          "base_uri": "https://localhost:8080/"
        },
        "id": "acjKBd9kjFQ5",
        "outputId": "fe726b4a-7448-4ea8-f7ed-474223bf0fb8"
      },
      "outputs": [
        {
          "name": "stdout",
          "output_type": "stream",
          "text": [
            "[[51 73 62 57 43]\n",
            " [70 61 88 83 21]\n",
            " [35 86 49 89 80]\n",
            " [15 51 24 52 12]\n",
            " [18 53 24 27 14]]\n"
          ]
        }
      ],
      "source": [
        "c = np.random.randint(10,90,(5,5))\n",
        "print(c)"
      ]
    },
    {
      "cell_type": "code",
      "execution_count": 257,
      "metadata": {
        "colab": {
          "base_uri": "https://localhost:8080/"
        },
        "id": "1ANEENVljXww",
        "outputId": "26a74ab4-bd04-4a0a-9e44-5518ec9cf43e"
      },
      "outputs": [
        {
          "name": "stdout",
          "output_type": "stream",
          "text": [
            "(5, 5)\n"
          ]
        }
      ],
      "source": [
        "# array dimension\n",
        "print(c.shape)"
      ]
    },
    {
      "cell_type": "code",
      "execution_count": 258,
      "metadata": {
        "colab": {
          "base_uri": "https://localhost:8080/"
        },
        "id": "QNEc5GKOje1F",
        "outputId": "5307fa9c-a192-49a1-f4d4-9d8652f30f49"
      },
      "outputs": [
        {
          "name": "stdout",
          "output_type": "stream",
          "text": [
            "2\n"
          ]
        }
      ],
      "source": [
        "# number of dimensions\n",
        "print(c.ndim)"
      ]
    },
    {
      "cell_type": "code",
      "execution_count": 259,
      "metadata": {
        "colab": {
          "base_uri": "https://localhost:8080/"
        },
        "id": "u0keyHukjlNp",
        "outputId": "1e91fc62-0b03-490a-9349-38d6cf8e321d"
      },
      "outputs": [
        {
          "name": "stdout",
          "output_type": "stream",
          "text": [
            "25\n"
          ]
        }
      ],
      "source": [
        "# number of elements in an array\n",
        "print(c.size)"
      ]
    },
    {
      "cell_type": "code",
      "execution_count": 260,
      "metadata": {
        "colab": {
          "base_uri": "https://localhost:8080/"
        },
        "id": "nMV1h5NwjuQ-",
        "outputId": "46e84636-2c88-45de-ce94-47bbb1192ca5"
      },
      "outputs": [
        {
          "name": "stdout",
          "output_type": "stream",
          "text": [
            "int64\n"
          ]
        }
      ],
      "source": [
        "# checking the data type of the values in the array\n",
        "print(c.dtype)"
      ]
    },
    {
      "cell_type": "markdown",
      "metadata": {
        "id": "EjUgn_Okj8uc"
      },
      "source": [
        "Mathematical operations on a np array"
      ]
    },
    {
      "cell_type": "code",
      "execution_count": 261,
      "metadata": {
        "colab": {
          "base_uri": "https://localhost:8080/"
        },
        "id": "bPfwfe-Dj3Vl",
        "outputId": "f1dbeee7-0d6c-401e-f84d-5cf0fa3f8247"
      },
      "outputs": [
        {
          "name": "stdout",
          "output_type": "stream",
          "text": [
            "[1, 2, 3, 4, 5, 6, 7, 8, 9, 10]\n"
          ]
        }
      ],
      "source": [
        "list1 = [1,2,3,4,5]\n",
        "list2 = [6,7,8,9,10]\n",
        "\n",
        "print(list1 + list2)    # concatenate or joins two list"
      ]
    },
    {
      "cell_type": "code",
      "execution_count": 262,
      "metadata": {
        "id": "t6TmaVFCkKqq"
      },
      "outputs": [],
      "source": [
        "a = np.random.randint(0,10,(3,3))\n",
        "b = np.random.randint(10,20,(3,3))"
      ]
    },
    {
      "cell_type": "code",
      "execution_count": 263,
      "metadata": {
        "colab": {
          "base_uri": "https://localhost:8080/"
        },
        "id": "cZqQPRF_klJZ",
        "outputId": "a2fef715-c7eb-47cb-eab8-06401fe2cd1f"
      },
      "outputs": [
        {
          "name": "stdout",
          "output_type": "stream",
          "text": [
            "[[7 5 4]\n",
            " [4 0 7]\n",
            " [2 4 8]]\n",
            "[[15 14 13]\n",
            " [19 17 18]\n",
            " [11 10 11]]\n"
          ]
        }
      ],
      "source": [
        "print(a)\n",
        "print(b)"
      ]
    },
    {
      "cell_type": "code",
      "execution_count": 264,
      "metadata": {
        "colab": {
          "base_uri": "https://localhost:8080/"
        },
        "id": "5Hk6D3LNkn1S",
        "outputId": "380c7dc5-46c0-4bba-b724-7361f10763fe"
      },
      "outputs": [
        {
          "name": "stdout",
          "output_type": "stream",
          "text": [
            "[[22 19 17]\n",
            " [23 17 25]\n",
            " [13 14 19]]\n",
            "[[ -8  -9  -9]\n",
            " [-15 -17 -11]\n",
            " [ -9  -6  -3]]\n",
            "[[105  70  52]\n",
            " [ 76   0 126]\n",
            " [ 22  40  88]]\n",
            "[[0.46666667 0.35714286 0.30769231]\n",
            " [0.21052632 0.         0.38888889]\n",
            " [0.18181818 0.4        0.72727273]]\n"
          ]
        }
      ],
      "source": [
        "print(a+b)\n",
        "print(a-b)\n",
        "print(a*b)\n",
        "print(a/b)"
      ]
    },
    {
      "cell_type": "code",
      "execution_count": 265,
      "metadata": {
        "id": "WGH-A2g5lDYa"
      },
      "outputs": [],
      "source": [
        "a = np.random.randint(0,10,(3,3))\n",
        "b = np.random.randint(10,20,(3,3))"
      ]
    },
    {
      "cell_type": "code",
      "execution_count": 266,
      "metadata": {
        "colab": {
          "base_uri": "https://localhost:8080/"
        },
        "id": "CBKsnb4olFTK",
        "outputId": "57983975-180c-44fc-e1ae-e7cc523fe8fd"
      },
      "outputs": [
        {
          "name": "stdout",
          "output_type": "stream",
          "text": [
            "[[7 4 6]\n",
            " [6 0 2]\n",
            " [4 0 5]]\n",
            "[[12 12 16]\n",
            " [10 15 15]\n",
            " [19 15 19]]\n"
          ]
        }
      ],
      "source": [
        "print(a)\n",
        "print(b)"
      ]
    },
    {
      "cell_type": "code",
      "execution_count": 267,
      "metadata": {
        "colab": {
          "base_uri": "https://localhost:8080/"
        },
        "id": "SbHjIBVyk22r",
        "outputId": "20e9d30a-8eef-486e-c2bd-f4af7d7b027a"
      },
      "outputs": [
        {
          "name": "stdout",
          "output_type": "stream",
          "text": [
            "[[19 16 22]\n",
            " [16 15 17]\n",
            " [23 15 24]]\n",
            "[[ -5  -8 -10]\n",
            " [ -4 -15 -13]\n",
            " [-15 -15 -14]]\n",
            "[[84 48 96]\n",
            " [60  0 30]\n",
            " [76  0 95]]\n",
            "[[0.58333333 0.33333333 0.375     ]\n",
            " [0.6        0.         0.13333333]\n",
            " [0.21052632 0.         0.26315789]]\n"
          ]
        }
      ],
      "source": [
        "print(np.add(a,b))\n",
        "print(np.subtract(a,b))\n",
        "print(np.multiply(a,b))\n",
        "print(np.divide(a,b))"
      ]
    },
    {
      "cell_type": "markdown",
      "metadata": {
        "id": "DJ572KZIlZdb"
      },
      "source": [
        "Array Manipulation"
      ]
    },
    {
      "cell_type": "code",
      "execution_count": 268,
      "metadata": {
        "colab": {
          "base_uri": "https://localhost:8080/"
        },
        "id": "v4u38bHwlYu2",
        "outputId": "98087ebe-64d7-498d-a25c-168119903d1e"
      },
      "outputs": [
        {
          "name": "stdout",
          "output_type": "stream",
          "text": [
            "[[4 1 5]\n",
            " [4 9 6]]\n",
            "(2, 3)\n"
          ]
        }
      ],
      "source": [
        "array = np.random.randint(0,10,(2,3))\n",
        "print(array)\n",
        "print(array.shape)"
      ]
    },
    {
      "cell_type": "code",
      "execution_count": 269,
      "metadata": {
        "colab": {
          "base_uri": "https://localhost:8080/"
        },
        "id": "_AA0D3sPlUDw",
        "outputId": "089d56c1-0bee-425c-b57d-d90f79bfe42b"
      },
      "outputs": [
        {
          "name": "stdout",
          "output_type": "stream",
          "text": [
            "[[4 4]\n",
            " [1 9]\n",
            " [5 6]]\n",
            "(3, 2)\n"
          ]
        }
      ],
      "source": [
        "# transpose\n",
        "trans = np.transpose(array)\n",
        "print(trans)\n",
        "print(trans.shape)"
      ]
    },
    {
      "cell_type": "code",
      "execution_count": 270,
      "metadata": {
        "colab": {
          "base_uri": "https://localhost:8080/"
        },
        "id": "Gi89eXMZlxSR",
        "outputId": "d171777b-6237-461f-811a-149fab9056c9"
      },
      "outputs": [
        {
          "name": "stdout",
          "output_type": "stream",
          "text": [
            "[[9 0 7]\n",
            " [5 8 1]]\n",
            "(2, 3)\n"
          ]
        }
      ],
      "source": [
        "array = np.random.randint(0,10,(2,3))\n",
        "print(array)\n",
        "print(array.shape)"
      ]
    },
    {
      "cell_type": "code",
      "execution_count": 271,
      "metadata": {
        "colab": {
          "base_uri": "https://localhost:8080/"
        },
        "id": "uygDrgUgl2la",
        "outputId": "ee8a8edb-0030-47bf-9cdf-11e42f33b5d8"
      },
      "outputs": [
        {
          "name": "stdout",
          "output_type": "stream",
          "text": [
            "[[9 5]\n",
            " [0 8]\n",
            " [7 1]]\n",
            "(3, 2)\n"
          ]
        }
      ],
      "source": [
        "trans2 = array.T\n",
        "print(trans2)\n",
        "print(trans2.shape)"
      ]
    },
    {
      "cell_type": "code",
      "execution_count": 272,
      "metadata": {
        "colab": {
          "base_uri": "https://localhost:8080/"
        },
        "id": "h4DCLsCemAw4",
        "outputId": "36ab0863-e1a9-4c75-e32b-7dd22b5bf785"
      },
      "outputs": [
        {
          "name": "stdout",
          "output_type": "stream",
          "text": [
            "[[5 5 4]\n",
            " [8 6 0]]\n",
            "(2, 3)\n"
          ]
        }
      ],
      "source": [
        "# reshaping a array\n",
        "a = np.random.randint(0,10,(2,3))\n",
        "print(a)\n",
        "print(a.shape)"
      ]
    },
    {
      "cell_type": "code",
      "execution_count": 273,
      "metadata": {
        "colab": {
          "base_uri": "https://localhost:8080/"
        },
        "id": "blUvf7PHmOAl",
        "outputId": "af29fee1-552f-4be5-8975-baf219955000"
      },
      "outputs": [
        {
          "name": "stdout",
          "output_type": "stream",
          "text": [
            "[[5 5]\n",
            " [4 8]\n",
            " [6 0]]\n",
            "(3, 2)\n"
          ]
        }
      ],
      "source": [
        "b = a.reshape(3,2)\n",
        "print(b)\n",
        "print(b.shape)"
      ]
    }
  ],
  "metadata": {
    "colab": {
      "collapsed_sections": [],
      "provenance": []
    },
    "kernelspec": {
      "display_name": "Python 3.9.13 ('tensorflow')",
      "language": "python",
      "name": "python3"
    },
    "language_info": {
      "codemirror_mode": {
        "name": "ipython",
        "version": 3
      },
      "file_extension": ".py",
      "mimetype": "text/x-python",
      "name": "python",
      "nbconvert_exporter": "python",
      "pygments_lexer": "ipython3",
      "version": "3.9.13"
    },
    "vscode": {
      "interpreter": {
        "hash": "e6a7a5b5dd92f3ff8a78f358dce6671993fb70b6d76018ef9a9619aeb3b6ac66"
      }
    }
  },
  "nbformat": 4,
  "nbformat_minor": 0
}
